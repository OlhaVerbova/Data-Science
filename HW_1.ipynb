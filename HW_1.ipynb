{
 "cells": [
  {
   "cell_type": "markdown",
   "id": "4f633f63-9e0d-428a-8432-c58456e95930",
   "metadata": {},
   "source": [
    "# Домашнє завдання 1\n"
   ]
  },
  {
   "cell_type": "code",
   "execution_count": 2,
   "id": "88309a6d-6739-42d8-8891-6ea00e03fc5f",
   "metadata": {},
   "outputs": [],
   "source": [
    "import numpy as np"
   ]
  },
  {
   "cell_type": "markdown",
   "id": "94fd2ac5-6d8f-4293-8207-d34f261094ab",
   "metadata": {},
   "source": [
    "1. Створіть одновимірний масив (вектор) з першими 10-ма натуральними числами та виведіть його значення."
   ]
  },
  {
   "cell_type": "code",
   "execution_count": 2,
   "id": "c43388c4-acea-43f6-b3a6-be76de93bcb3",
   "metadata": {},
   "outputs": [
    {
     "name": "stdout",
     "output_type": "stream",
     "text": [
      "[ 1  2  3  4  5  6  7  8  9 10]\n"
     ]
    }
   ],
   "source": [
    "natural_numbers = np.array([i for i in range(1, 11)], dtype=int)\n",
    "print(natural_numbers)"
   ]
  },
  {
   "cell_type": "markdown",
   "id": "d975ceae-ccc3-42d6-ace2-c0b2fede8582",
   "metadata": {},
   "source": [
    "2. Створіть двовимірний масив (матрицю) розміром 3x3, заповніть його нулями та виведіть його значення."
   ]
  },
  {
   "cell_type": "code",
   "execution_count": 3,
   "id": "dd524b7c-c8ff-478f-b1b7-3bdcadfee0f7",
   "metadata": {},
   "outputs": [
    {
     "name": "stdout",
     "output_type": "stream",
     "text": [
      "[[0 0 0]\n",
      " [0 0 0]\n",
      " [0 0 0]]\n"
     ]
    }
   ],
   "source": [
    "zero_matrix = np.zeros((3,3), dtype=int)\n",
    "\n",
    "print(zero_matrix)"
   ]
  },
  {
   "cell_type": "markdown",
   "id": "7238b9f2-0fde-4e2b-bb79-a10f7e0c6642",
   "metadata": {},
   "source": [
    "3. Створіть масив розміром 5x5, заповніть його випадковими цілими числами в діапазоні від 1 до 10 та виведіть його значення."
   ]
  },
  {
   "cell_type": "code",
   "execution_count": 4,
   "id": "8df9494e-cfaa-402a-b2fe-3f9980eca879",
   "metadata": {},
   "outputs": [
    {
     "name": "stdout",
     "output_type": "stream",
     "text": [
      "[[3 5 9 1 4]\n",
      " [9 4 4 1 5]\n",
      " [4 5 1 5 9]\n",
      " [8 9 4 2 8]\n",
      " [9 7 4 3 1]]\n"
     ]
    }
   ],
   "source": [
    "min_border = 1\n",
    "max_border = 10\n",
    "random_matrix = np.random.randint(min_border, max_border, (5,5))\n",
    "\n",
    "print(random_matrix)"
   ]
  },
  {
   "cell_type": "markdown",
   "id": "f22f09de-244a-4bff-89c0-612b5e6f24d0",
   "metadata": {},
   "source": [
    "4. Створіть масив розміром 4x4, заповніть його випадковими дійсними числами в діапазоні від 0 до 1 та виведіть його значення."
   ]
  },
  {
   "cell_type": "code",
   "execution_count": 5,
   "id": "ebed316f-d647-4896-b79c-c348c6c39128",
   "metadata": {},
   "outputs": [
    {
     "name": "stdout",
     "output_type": "stream",
     "text": [
      "[[0.39269872 0.6474154  0.60868747 0.7409322 ]\n",
      " [0.18606068 0.78036373 0.05755161 0.65698507]\n",
      " [0.24346663 0.17746067 0.03077902 0.49770389]\n",
      " [0.7729053  0.23573651 0.98501328 0.25236237]]\n"
     ]
    }
   ],
   "source": [
    "min_border = 0\n",
    "max_border = 1\n",
    "random_matrix = np.random.uniform(min_border, max_border, (4,4))\n",
    "\n",
    "print(random_matrix)"
   ]
  },
  {
   "cell_type": "markdown",
   "id": "13443af0-3396-42a9-9ffb-0996e37a3d61",
   "metadata": {},
   "source": [
    "5. Створіть два одновимірних масиви розміром 5, заповніть їх випадковими цілими числами в діапазоні від 1 до 10 та виконайте на них поелементні операції додавання, віднімання та множення."
   ]
  },
  {
   "cell_type": "code",
   "execution_count": 6,
   "id": "59d933d8-d205-4c03-9b1b-7e250c58b560",
   "metadata": {},
   "outputs": [
    {
     "name": "stdout",
     "output_type": "stream",
     "text": [
      "[4 4 9 1 9]\n",
      "[2 8 5 4 4]\n",
      "Sum of two vectors: [ 6 12 14  5 13]\n",
      "Difference of two vectors: [ 2 -4  4 -3  5]\n",
      "Multiplication of two vectors: [ 8 32 45  4 36]\n"
     ]
    }
   ],
   "source": [
    "min_border = 1\n",
    "max_border = 10\n",
    "first_vector = np.random.randint(min_border, max_border, 5)\n",
    "second_vector = np.random.randint(min_border, max_border, 5)\n",
    "\n",
    "print(first_vector)\n",
    "print(second_vector)\n",
    "print(f\"Sum of two vectors: {first_vector + second_vector}\")\n",
    "print(f\"Difference of two vectors: {first_vector - second_vector}\")\n",
    "print(f\"Multiplication of two vectors: {first_vector * second_vector}\")"
   ]
  },
  {
   "cell_type": "markdown",
   "id": "cc1e0df0-5bf8-4c1f-9d9c-23f613a9b2c4",
   "metadata": {},
   "source": [
    "6. Створіть два вектори розміром 7, заповніть довільними числами та знайдіть їх скалярний добуток."
   ]
  },
  {
   "cell_type": "code",
   "execution_count": 7,
   "id": "5b09ad3a-f05f-48ce-95a5-f804b66815db",
   "metadata": {},
   "outputs": [
    {
     "name": "stdout",
     "output_type": "stream",
     "text": [
      "Scalar product: 122\n"
     ]
    }
   ],
   "source": [
    "min_border = 1\n",
    "max_border = 10\n",
    "\n",
    "first_vector = np.random.randint(min_border, max_border, 7)\n",
    "second_vector = np.random.randint(min_border, max_border, 7)\n",
    "scalar_product = np.dot(first_vector, second_vector)\n",
    "\n",
    "print(f\"Scalar product: {scalar_product}\")\n"
   ]
  },
  {
   "cell_type": "markdown",
   "id": "4331ba58-3bc6-447d-b7b1-7f100646c6f4",
   "metadata": {},
   "source": [
    "7. Створіть дві матриці розміром 2x2 та 2x3, заповніть їх випадковими цілими числами в діапазоні від 1 до 10 та перемножте їх між собою."
   ]
  },
  {
   "cell_type": "code",
   "execution_count": 8,
   "id": "7b7f9c2e-8d66-4dfc-bbeb-724447c183bc",
   "metadata": {},
   "outputs": [
    {
     "name": "stdout",
     "output_type": "stream",
     "text": [
      "Multiplication of two matrix 2x2 and 2x3:\n",
      "[[ 94  79 102]\n",
      " [ 81  48  69]]\n"
     ]
    }
   ],
   "source": [
    "min_border = 1\n",
    "max_border = 10\n",
    "first_matrix = np.random.randint(min_border, max_border, (2,2))\n",
    "second_matrix = np.random.randint(min_border, max_border, (2,3))\n",
    "mult_matrixs = np.dot(first_matrix, second_matrix)\n",
    "\n",
    "print(\"Multiplication of two matrix 2x2 and 2x3:\")\n",
    "print(mult_matrixs)"
   ]
  },
  {
   "cell_type": "markdown",
   "id": "c6734dc8-c927-470e-a598-dd34149ca2f8",
   "metadata": {},
   "source": [
    "8. Створіть матрицю розміром 3x3, заповніть її випадковими цілими числами в діапазоні від 1 до 10 та знайдіть її обернену матрицю."
   ]
  },
  {
   "cell_type": "code",
   "execution_count": 17,
   "id": "d3f10b3b-62d9-487e-8b4a-b351334e7c5c",
   "metadata": {},
   "outputs": [
    {
     "name": "stdout",
     "output_type": "stream",
     "text": [
      "[[4 8 7]\n",
      " [6 1 8]\n",
      " [6 6 2]]\n",
      "The determinant of matrix det_test_matrix is not zero. The inverse matrix exists.\n",
      "[[-0.14649682  0.08280255  0.18152866]\n",
      " [ 0.11464968 -0.10828025  0.03184713]\n",
      " [ 0.0955414   0.07643312 -0.14012739]]\n"
     ]
    }
   ],
   "source": [
    "min_border = 1\n",
    "max_border = 10\n",
    "test_matrix = np.random.randint(min_border, max_border, (3,3))\n",
    "print(test_matrix)\n",
    "det_test_matrix = np.linalg.det(test_matrix)\n",
    "\n",
    "if det_test_matrix != 0:\n",
    "    print(\"The determinant of matrix det_test_matrix is not zero. The inverse matrix exists.\")\n",
    "    reversed_matrix = np.linalg.inv(test_matrix )\n",
    "    print(reversed_matrix)\n",
    "else:\n",
    "    print(\"The determinant of matrix det_test_matrix is zero. The inverse matrix does not exist.\")\n"
   ]
  },
  {
   "cell_type": "markdown",
   "id": "5641f823-34db-40bd-b36d-eb8130579026",
   "metadata": {},
   "source": [
    "9. Створіть матрицю розміром 4x4, заповніть її випадковими дійсними числами в діапазоні від 0 до 1 та транспонуйте її."
   ]
  },
  {
   "cell_type": "code",
   "execution_count": 5,
   "id": "1b3adbe2-0677-49f9-a2ef-9b5cc10f77f9",
   "metadata": {},
   "outputs": [
    {
     "name": "stdout",
     "output_type": "stream",
     "text": [
      "A four by four matrix\n",
      "[[0.60923672 0.25922412 0.11100859 0.30874215]\n",
      " [0.16798571 0.64431382 0.01892604 0.54023251]\n",
      " [0.22614465 0.62357941 0.00849888 0.18724076]\n",
      " [0.20900641 0.43164377 0.30147517 0.55184227]]\n",
      "Transposed matrix\n",
      "[[0.60923672 0.16798571 0.22614465 0.20900641]\n",
      " [0.25922412 0.64431382 0.62357941 0.43164377]\n",
      " [0.11100859 0.01892604 0.00849888 0.30147517]\n",
      " [0.30874215 0.54023251 0.18724076 0.55184227]]\n"
     ]
    }
   ],
   "source": [
    "min_border = 0\n",
    "max_border = 1\n",
    "test_matrix = np.random.uniform(min_border, max_border, (4,4))\n",
    "print(\"A four by four matrix\")\n",
    "print(test_matrix)\n",
    "\n",
    "transposed_matrix = test_matrix.T\n",
    "print(\"Transposed matrix\")\n",
    "print(transposed_matrix)"
   ]
  },
  {
   "cell_type": "markdown",
   "id": "92831f1f-7ecb-415d-86bf-6ae9a938bf80",
   "metadata": {},
   "source": [
    "10. Створіть матрицю розміром 3x4 та вектор розміром 4, заповніть їх випадковими цілими числами в діапазоні від 1 до 10 та перемножте матрицю на вектор."
   ]
  },
  {
   "cell_type": "code",
   "execution_count": 6,
   "id": "fdf45fed-b780-4397-8502-77c229a259d1",
   "metadata": {},
   "outputs": [
    {
     "name": "stdout",
     "output_type": "stream",
     "text": [
      "A three by four matrix\n",
      "[[2 2 3 7]\n",
      " [8 1 2 4]\n",
      " [9 3 1 7]]\n",
      "Vector size 4\n",
      "[4 9 4 1]\n",
      "Result\n",
      "[45 53 74]\n"
     ]
    }
   ],
   "source": [
    "min_border = 1\n",
    "max_border = 10\n",
    "\n",
    "test_matrix = np.random.randint(min_border, max_border, (3,4))\n",
    "test_vector = np.random.randint(min_border, max_border, 4)\n",
    "result = np.dot(test_matrix, test_vector)\n",
    "\n",
    "print(\"A three by four matrix\")\n",
    "print(test_matrix)\n",
    "print(\"Vector size 4\")\n",
    "print(test_vector)\n",
    "print(\"Result\")\n",
    "print(result)\n"
   ]
  },
  {
   "cell_type": "markdown",
   "id": "547e360e-b17d-4a3e-ab4b-4f4e3d1b886f",
   "metadata": {},
   "source": [
    "11. Створіть матрицю розміром 2x3 та вектор розміром 3, заповніть їх випадковими дійсними числами в діапазоні від 0 до 1 та перемножте матрицю на вектор."
   ]
  },
  {
   "cell_type": "code",
   "execution_count": 7,
   "id": "717f5549-01fe-463c-8db1-3c7c59bdb2a4",
   "metadata": {},
   "outputs": [
    {
     "name": "stdout",
     "output_type": "stream",
     "text": [
      "A two by three matrix\n",
      "[[0.71996755 0.51027769 0.67061038]\n",
      " [0.2798076  0.05298253 0.52432485]]\n",
      "Vector size 3\n",
      "[0.28971096 0.05481267 0.63186128]\n",
      "Result\n",
      "[0.6602849  0.41526801]\n"
     ]
    }
   ],
   "source": [
    "min_border = 0\n",
    "max_border = 1\n",
    "\n",
    "test_matrix = np.random.uniform(min_border, max_border, (2,3))\n",
    "test_vector = np.random.uniform(min_border, max_border, 3)\n",
    "result = np.dot(test_matrix, test_vector)\n",
    "\n",
    "print(\"A two by three matrix\")\n",
    "print(test_matrix)\n",
    "print(\"Vector size 3\")\n",
    "print(test_vector)\n",
    "print(\"Result\")\n",
    "print(result)"
   ]
  },
  {
   "cell_type": "markdown",
   "id": "29803294-a5e4-4853-baf1-c960d9615543",
   "metadata": {},
   "source": [
    "12. Створіть дві матриці розміром 2x2, заповніть їх випадковими цілими числами в діапазоні від 1 до 10 та виконайте їхнє поелементне множення."
   ]
  },
  {
   "cell_type": "code",
   "execution_count": 8,
   "id": "8cb257ca-f6c2-4fc2-82d9-5d29476dfdda",
   "metadata": {},
   "outputs": [
    {
     "name": "stdout",
     "output_type": "stream",
     "text": [
      "First matrix:\n",
      "[[9 1]\n",
      " [2 7]]\n",
      "Second matrix:\n",
      "[[9 6]\n",
      " [9 2]]\n",
      "Multiplied matrix:\n",
      "[[81  6]\n",
      " [18 14]]\n"
     ]
    }
   ],
   "source": [
    "min_border = 1\n",
    "max_border = 10\n",
    "\n",
    "first_matrix = np.random.randint(min_border, max_border, (2,2))\n",
    "second_matrix = np.random.randint(min_border, max_border, (2,2))\n",
    "multiplied_matrices = np.multiply(first_matrix, second_matrix)\n",
    "\n",
    "print(\"First matrix:\")\n",
    "print(first_matrix)\n",
    "print(\"Second matrix:\")\n",
    "print(second_matrix)\n",
    "print(\"Multiplied matrix:\")\n",
    "print(multiplied_matrices)"
   ]
  },
  {
   "cell_type": "markdown",
   "id": "581b2b9a-80f5-4641-99d8-f72e0001a3eb",
   "metadata": {},
   "source": [
    "13. Створіть дві матриці розміром 2x2, заповніть їх випадковими цілими числами в діапазоні від 1 до 10 та знайдіть їх добуток."
   ]
  },
  {
   "cell_type": "code",
   "execution_count": 11,
   "id": "36a44418-c5d4-46e9-bce9-71e3ad803261",
   "metadata": {},
   "outputs": [
    {
     "name": "stdout",
     "output_type": "stream",
     "text": [
      "First matrix:\n",
      "[[3 2]\n",
      " [8 7]]\n",
      "Second matrix:\n",
      "[[9 4]\n",
      " [6 3]]\n",
      "Result:\n",
      "[[ 39  18]\n",
      " [114  53]]\n"
     ]
    }
   ],
   "source": [
    "min_border = 1\n",
    "max_border = 10\n",
    "\n",
    "first_matrix = np.random.randint(min_border, max_border, (2,2))\n",
    "second_matrix = np.random.randint(min_border, max_border, (2,2))\n",
    "result = np.dot(first_matrix, second_matrix)\n",
    "\n",
    "print(\"First matrix:\")\n",
    "print(first_matrix)\n",
    "print(\"Second matrix:\")\n",
    "print(second_matrix)\n",
    "print(\"Result:\")\n",
    "print(result)\n",
    "\n"
   ]
  },
  {
   "cell_type": "markdown",
   "id": "5eebb88b-8c02-4061-8933-e06ad5532d8f",
   "metadata": {},
   "source": [
    "14. Створіть матрицю розміром 5x5, заповніть її випадковими цілими числами в діапазоні від 1 до 100 та знайдіть суму елементів матриці."
   ]
  },
  {
   "cell_type": "code",
   "execution_count": 21,
   "id": "a12135a8-2be4-4adb-aa1e-bc68f68c4c9e",
   "metadata": {},
   "outputs": [
    {
     "name": "stdout",
     "output_type": "stream",
     "text": [
      "Matrix:\n",
      "[[69 75 18 13 80]\n",
      " [92 75 98 14 67]\n",
      " [42 56 99 29 77]\n",
      " [82 72 95 92 94]\n",
      " [ 8  1 67 13 41]]\n",
      "Sum of matrix elements:\n",
      "1469\n"
     ]
    }
   ],
   "source": [
    "min_border = 1\n",
    "max_border = 100\n",
    "\n",
    "temp_matrix = np.random.randint(min_border, max_border, (5,5))\n",
    "sum_result = np.sum(temp_matrix)\n",
    "\n",
    "print(\"Matrix:\")\n",
    "print(temp_matrix)\n",
    "print(\"Sum of matrix elements:\")\n",
    "print(sum_result)\n"
   ]
  },
  {
   "cell_type": "markdown",
   "id": "7b632bf5-5746-41c3-ae8b-105d3800bcc9",
   "metadata": {},
   "source": [
    "15. Створіть дві матриці розміром 4x4, заповніть їх випадковими цілими числами в діапазоні від 1 до 10 та знайдіть їхню різницю."
   ]
  },
  {
   "cell_type": "code",
   "execution_count": 23,
   "id": "9da851bd-c39c-4dc5-9ef2-26f2f484391c",
   "metadata": {},
   "outputs": [
    {
     "name": "stdout",
     "output_type": "stream",
     "text": [
      "First matrix:\n",
      "[[2 3 7 9]\n",
      " [5 5 5 5]\n",
      " [8 4 4 6]\n",
      " [1 1 6 2]]\n",
      "Second matrix:\n",
      "[[2 9 8 5]\n",
      " [1 8 5 7]\n",
      " [5 7 6 9]\n",
      " [8 5 5 7]]\n",
      "Matrix difference:\n",
      "[[ 0 -6 -1  4]\n",
      " [ 4 -3  0 -2]\n",
      " [ 3 -3 -2 -3]\n",
      " [-7 -4  1 -5]]\n"
     ]
    }
   ],
   "source": [
    "min_border = 1\n",
    "max_border = 10\n",
    "\n",
    "first_matrix = np.random.randint(min_border, max_border, (4,4))\n",
    "second_matrix = np.random.randint(min_border, max_border, (4,4))\n",
    "matrix_difference = first_matrix - second_matrix\n",
    "\n",
    "print(\"First matrix:\")\n",
    "print(first_matrix)\n",
    "print(\"Second matrix:\")\n",
    "print(second_matrix)\n",
    "print(\"Matrix difference:\")\n",
    "print(matrix_difference)\n",
    "\n"
   ]
  },
  {
   "cell_type": "markdown",
   "id": "c8ee4fd7-b3a8-4b51-8c20-b0dbbcb84963",
   "metadata": {},
   "source": [
    "16. Створіть матрицю розміром 3x3, заповніть її випадковими дійсними числами в діапазоні від 0 до 1 та знайдіть вектор-стовпчик, що містить суму елементів кожного рядка матриці."
   ]
  },
  {
   "cell_type": "code",
   "execution_count": 29,
   "id": "704c9d33-91b0-4c65-acf4-d244d831ac8b",
   "metadata": {},
   "outputs": [
    {
     "name": "stdout",
     "output_type": "stream",
     "text": [
      "Matrix:\n",
      "[[0.47470742 0.71494911 0.22902121]\n",
      " [0.67440909 0.65945491 0.47036153]\n",
      " [0.95448014 0.54705297 0.88736168]]\n",
      "Column vector:\n",
      "[[1.41867774]\n",
      " [1.80422553]\n",
      " [2.38889479]]\n"
     ]
    }
   ],
   "source": [
    "min_border = 0\n",
    "max_border = 1\n",
    "test_matrix = np.random.uniform(min_border, max_border, (3,3))\n",
    "sum_row = np.sum(test_matrix, axis=1)\n",
    "result = sum_row.reshape(-1, 1)\n",
    "\n",
    "print(\"Matrix:\")\n",
    "print(test_matrix)\n",
    "print(\"Column vector:\")\n",
    "print(result)\n"
   ]
  },
  {
   "cell_type": "markdown",
   "id": "7b1a2f44-cf92-473f-8258-1e804adf8b7a",
   "metadata": {},
   "source": [
    "17. Створіть матрицю розміром 3x4 з довільними цілими числами і створінь матрицю з квадратами цих чисел."
   ]
  },
  {
   "cell_type": "code",
   "execution_count": 33,
   "id": "4d5460eb-0e3e-4299-9293-67ae2b9eb642",
   "metadata": {},
   "outputs": [
    {
     "name": "stdout",
     "output_type": "stream",
     "text": [
      "Matrix:\n",
      "[[3 4 4 4]\n",
      " [2 1 4 4]\n",
      " [3 2 1 1]]\n",
      "A matrix with the squares of these numbers:\n",
      "[[ 9 16 16 16]\n",
      " [ 4  1 16 16]\n",
      " [ 9  4  1  1]]\n"
     ]
    }
   ],
   "source": [
    "min_border = 1\n",
    "max_border = 5\n",
    "test_matrix = np.random.randint(min_border, max_border, (3,4))\n",
    "quadro_matrix = np.square(test_matrix)\n",
    "\n",
    "print(\"Matrix:\")\n",
    "print(test_matrix)\n",
    "print(\"A matrix with the squares of these numbers:\")\n",
    "print(quadro_matrix)"
   ]
  },
  {
   "cell_type": "markdown",
   "id": "90f7c2da-480f-46e4-b041-478ed7d651f5",
   "metadata": {},
   "source": [
    "18. Створіть вектор розміром 4, заповніть його випадковими цілими числами в діапазоні від 1 до 50 та знайдіть вектор з квадратними коренями цих чисел."
   ]
  },
  {
   "cell_type": "code",
   "execution_count": 52,
   "id": "21ba75ec-8485-4c6b-9466-8ad69ef04827",
   "metadata": {},
   "outputs": [
    {
     "name": "stdout",
     "output_type": "stream",
     "text": [
      "Vector:\n",
      "[ 7 25 25 44]\n",
      "square_root\n",
      "[2.64575131 5.         5.         6.63324958]\n"
     ]
    }
   ],
   "source": [
    "min_border = 1\n",
    "max_border = 50\n",
    "\n",
    "test_vector = np.random.randint(min_border, max_border, 4)\n",
    "square_root = np.sqrt(test_vector)\n",
    "\n",
    "print(\"Vector:\")\n",
    "print(test_vector)\n",
    "print(\"square_root\")\n",
    "print(square_root)"
   ]
  }
 ],
 "metadata": {
  "kernelspec": {
   "display_name": "Python 3 (ipykernel)",
   "language": "python",
   "name": "python3"
  },
  "language_info": {
   "codemirror_mode": {
    "name": "ipython",
    "version": 3
   },
   "file_extension": ".py",
   "mimetype": "text/x-python",
   "name": "python",
   "nbconvert_exporter": "python",
   "pygments_lexer": "ipython3",
   "version": "3.11.6"
  }
 },
 "nbformat": 4,
 "nbformat_minor": 5
}
