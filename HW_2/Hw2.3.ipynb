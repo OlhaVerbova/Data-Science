{
 "cells": [
  {
   "cell_type": "markdown",
   "id": "5f149742-1c39-4908-89df-9ecddaf9cb4b",
   "metadata": {},
   "source": [
    "# Частина третя: Аналіз датасет c Kaggle.com"
   ]
  },
  {
   "cell_type": "markdown",
   "id": "4feca35e-1d17-4178-994a-ba4465211878",
   "metadata": {},
   "source": [
    "**Прочитайте csv файл (використовуйте функцію read_csv)**"
   ]
  },
  {
   "cell_type": "code",
   "execution_count": 75,
   "id": "73e7c7b9-5ff4-42c5-a22d-951a48fa9e31",
   "metadata": {},
   "outputs": [],
   "source": [
    "%matplotlib inline\n",
    "import pandas as pd\n",
    "import matplotlib.pyplot as plt"
   ]
  },
  {
   "cell_type": "code",
   "execution_count": 3,
   "id": "c9e7947c-3f6d-4fff-863c-9c44efd02024",
   "metadata": {},
   "outputs": [],
   "source": [
    "book_data = pd.read_csv('bestsellers with categories.csv')"
   ]
  },
  {
   "cell_type": "markdown",
   "id": "4fc22ca6-0f8e-4d4e-9893-33b63ce697b4",
   "metadata": {},
   "source": [
    "**Виведіть перші п'ять рядків (використовується функція head)**"
   ]
  },
  {
   "cell_type": "code",
   "execution_count": 4,
   "id": "fe51504f-b5e2-4f46-bc7f-70e835d660a3",
   "metadata": {},
   "outputs": [
    {
     "data": {
      "text/html": [
       "<div>\n",
       "<style scoped>\n",
       "    .dataframe tbody tr th:only-of-type {\n",
       "        vertical-align: middle;\n",
       "    }\n",
       "\n",
       "    .dataframe tbody tr th {\n",
       "        vertical-align: top;\n",
       "    }\n",
       "\n",
       "    .dataframe thead th {\n",
       "        text-align: right;\n",
       "    }\n",
       "</style>\n",
       "<table border=\"1\" class=\"dataframe\">\n",
       "  <thead>\n",
       "    <tr style=\"text-align: right;\">\n",
       "      <th></th>\n",
       "      <th>Name</th>\n",
       "      <th>Author</th>\n",
       "      <th>User Rating</th>\n",
       "      <th>Reviews</th>\n",
       "      <th>Price</th>\n",
       "      <th>Year</th>\n",
       "      <th>Genre</th>\n",
       "    </tr>\n",
       "  </thead>\n",
       "  <tbody>\n",
       "    <tr>\n",
       "      <th>0</th>\n",
       "      <td>10-Day Green Smoothie Cleanse</td>\n",
       "      <td>JJ Smith</td>\n",
       "      <td>4.7</td>\n",
       "      <td>17350</td>\n",
       "      <td>8</td>\n",
       "      <td>2016</td>\n",
       "      <td>Non Fiction</td>\n",
       "    </tr>\n",
       "    <tr>\n",
       "      <th>1</th>\n",
       "      <td>11/22/63: A Novel</td>\n",
       "      <td>Stephen King</td>\n",
       "      <td>4.6</td>\n",
       "      <td>2052</td>\n",
       "      <td>22</td>\n",
       "      <td>2011</td>\n",
       "      <td>Fiction</td>\n",
       "    </tr>\n",
       "    <tr>\n",
       "      <th>2</th>\n",
       "      <td>12 Rules for Life: An Antidote to Chaos</td>\n",
       "      <td>Jordan B. Peterson</td>\n",
       "      <td>4.7</td>\n",
       "      <td>18979</td>\n",
       "      <td>15</td>\n",
       "      <td>2018</td>\n",
       "      <td>Non Fiction</td>\n",
       "    </tr>\n",
       "    <tr>\n",
       "      <th>3</th>\n",
       "      <td>1984 (Signet Classics)</td>\n",
       "      <td>George Orwell</td>\n",
       "      <td>4.7</td>\n",
       "      <td>21424</td>\n",
       "      <td>6</td>\n",
       "      <td>2017</td>\n",
       "      <td>Fiction</td>\n",
       "    </tr>\n",
       "    <tr>\n",
       "      <th>4</th>\n",
       "      <td>5,000 Awesome Facts (About Everything!) (Natio...</td>\n",
       "      <td>National Geographic Kids</td>\n",
       "      <td>4.8</td>\n",
       "      <td>7665</td>\n",
       "      <td>12</td>\n",
       "      <td>2019</td>\n",
       "      <td>Non Fiction</td>\n",
       "    </tr>\n",
       "  </tbody>\n",
       "</table>\n",
       "</div>"
      ],
      "text/plain": [
       "                                                Name  \\\n",
       "0                      10-Day Green Smoothie Cleanse   \n",
       "1                                  11/22/63: A Novel   \n",
       "2            12 Rules for Life: An Antidote to Chaos   \n",
       "3                             1984 (Signet Classics)   \n",
       "4  5,000 Awesome Facts (About Everything!) (Natio...   \n",
       "\n",
       "                     Author  User Rating  Reviews  Price  Year        Genre  \n",
       "0                  JJ Smith          4.7    17350      8  2016  Non Fiction  \n",
       "1              Stephen King          4.6     2052     22  2011      Fiction  \n",
       "2        Jordan B. Peterson          4.7    18979     15  2018  Non Fiction  \n",
       "3             George Orwell          4.7    21424      6  2017      Fiction  \n",
       "4  National Geographic Kids          4.8     7665     12  2019  Non Fiction  "
      ]
     },
     "execution_count": 4,
     "metadata": {},
     "output_type": "execute_result"
    }
   ],
   "source": [
    "book_data.head()"
   ]
  },
  {
   "cell_type": "markdown",
   "id": "fdd2c065-a7e9-470d-a4c3-75e81ba4ed5b",
   "metadata": {},
   "source": [
    "**Виведіть розміри датасету (використовуйте атрибут shape)**"
   ]
  },
  {
   "cell_type": "code",
   "execution_count": 5,
   "id": "676fb2fc-67e9-4070-b3fe-7a4fb851c5bc",
   "metadata": {},
   "outputs": [
    {
     "name": "stdout",
     "output_type": "stream",
     "text": [
      "Number of rows: 550\n",
      "Number of columns: 7\n"
     ]
    }
   ],
   "source": [
    "сount_rows = book_data.shape[0]\n",
    "count_columns = book_data.shape[1]\n",
    "\n",
    "print(\"Number of rows:\", сount_rows)\n",
    "print(\"Number of columns:\", count_columns)"
   ]
  },
  {
   "cell_type": "markdown",
   "id": "444c56c2-63cc-4286-a906-b3584419bff6",
   "metadata": {},
   "source": [
    "**Відповідь: Про скільки книг зберігає дані датасет? - <font color='red'> 351 </font>**"
   ]
  },
  {
   "cell_type": "code",
   "execution_count": 6,
   "id": "13090b2b-7f33-495f-ab79-fd6ebd9a40a0",
   "metadata": {},
   "outputs": [
    {
     "name": "stdout",
     "output_type": "stream",
     "text": [
      "351\n"
     ]
    }
   ],
   "source": [
    "book_data['Name'].unique()\n",
    "unique_sum = len(book_data['Name'].unique())\n",
    "print(unique_sum)"
   ]
  },
  {
   "cell_type": "code",
   "execution_count": 76,
   "id": "a1d768ee-c47d-49f6-a16e-c48c6bab87cb",
   "metadata": {},
   "outputs": [
    {
     "data": {
      "text/html": [
       "<div>\n",
       "<style scoped>\n",
       "    .dataframe tbody tr th:only-of-type {\n",
       "        vertical-align: middle;\n",
       "    }\n",
       "\n",
       "    .dataframe tbody tr th {\n",
       "        vertical-align: top;\n",
       "    }\n",
       "\n",
       "    .dataframe thead th {\n",
       "        text-align: right;\n",
       "    }\n",
       "</style>\n",
       "<table border=\"1\" class=\"dataframe\">\n",
       "  <thead>\n",
       "    <tr style=\"text-align: right;\">\n",
       "      <th></th>\n",
       "      <th>name</th>\n",
       "      <th>author</th>\n",
       "      <th>user_rating</th>\n",
       "      <th>reviews</th>\n",
       "      <th>price</th>\n",
       "      <th>year</th>\n",
       "      <th>genre</th>\n",
       "    </tr>\n",
       "  </thead>\n",
       "  <tbody>\n",
       "    <tr>\n",
       "      <th>0</th>\n",
       "      <td>10-Day Green Smoothie Cleanse</td>\n",
       "      <td>JJ Smith</td>\n",
       "      <td>4.7</td>\n",
       "      <td>17350</td>\n",
       "      <td>8</td>\n",
       "      <td>2016</td>\n",
       "      <td>Non Fiction</td>\n",
       "    </tr>\n",
       "    <tr>\n",
       "      <th>1</th>\n",
       "      <td>11/22/63: A Novel</td>\n",
       "      <td>Stephen King</td>\n",
       "      <td>4.6</td>\n",
       "      <td>2052</td>\n",
       "      <td>22</td>\n",
       "      <td>2011</td>\n",
       "      <td>Fiction</td>\n",
       "    </tr>\n",
       "    <tr>\n",
       "      <th>2</th>\n",
       "      <td>12 Rules for Life: An Antidote to Chaos</td>\n",
       "      <td>Jordan B. Peterson</td>\n",
       "      <td>4.7</td>\n",
       "      <td>18979</td>\n",
       "      <td>15</td>\n",
       "      <td>2018</td>\n",
       "      <td>Non Fiction</td>\n",
       "    </tr>\n",
       "    <tr>\n",
       "      <th>3</th>\n",
       "      <td>1984 (Signet Classics)</td>\n",
       "      <td>George Orwell</td>\n",
       "      <td>4.7</td>\n",
       "      <td>21424</td>\n",
       "      <td>6</td>\n",
       "      <td>2017</td>\n",
       "      <td>Fiction</td>\n",
       "    </tr>\n",
       "    <tr>\n",
       "      <th>4</th>\n",
       "      <td>5,000 Awesome Facts (About Everything!) (Natio...</td>\n",
       "      <td>National Geographic Kids</td>\n",
       "      <td>4.8</td>\n",
       "      <td>7665</td>\n",
       "      <td>12</td>\n",
       "      <td>2019</td>\n",
       "      <td>Non Fiction</td>\n",
       "    </tr>\n",
       "  </tbody>\n",
       "</table>\n",
       "</div>"
      ],
      "text/plain": [
       "                                                name  \\\n",
       "0                      10-Day Green Smoothie Cleanse   \n",
       "1                                  11/22/63: A Novel   \n",
       "2            12 Rules for Life: An Antidote to Chaos   \n",
       "3                             1984 (Signet Classics)   \n",
       "4  5,000 Awesome Facts (About Everything!) (Natio...   \n",
       "\n",
       "                     author  user_rating  reviews  price  year        genre  \n",
       "0                  JJ Smith          4.7    17350      8  2016  Non Fiction  \n",
       "1              Stephen King          4.6     2052     22  2011      Fiction  \n",
       "2        Jordan B. Peterson          4.7    18979     15  2018  Non Fiction  \n",
       "3             George Orwell          4.7    21424      6  2017      Fiction  \n",
       "4  National Geographic Kids          4.8     7665     12  2019  Non Fiction  "
      ]
     },
     "execution_count": 76,
     "metadata": {},
     "output_type": "execute_result"
    }
   ],
   "source": [
    "book_data.columns = ['name', 'author', 'user_rating', 'reviews', 'price', 'year', 'genre']\n",
    "book_data.head()"
   ]
  },
  {
   "cell_type": "code",
   "execution_count": 89,
   "id": "ed969467-e889-4c34-a892-c2879565fbec",
   "metadata": {},
   "outputs": [
    {
     "data": {
      "image/png": "[encoded data removed]",
      "text/plain": [
       "<Figure size 640x480 with 1 Axes>"
      ]
     },
     "metadata": {},
     "output_type": "display_data"
    }
   ],
   "source": [
    "book_data['user_rating'].plot(kind='hist', bins=10, edgecolor='black', color='blue')\n",
    "plt.axvline(book_data['user_rating'].mean(), color='red', linestyle='--', label='Mean Rating')\n",
    "plt.title('User Rating')\n",
    "plt.xlabel('Rating')\n",
    "plt.ylabel('Number of books')\n",
    "plt.show()"
   ]
  },
  {
   "cell_type": "markdown",
   "id": "3fcb8f38-f4a9-46a9-9551-aa764e0ed0e8",
   "metadata": {},
   "source": [
    "## Первинне дослідження даних"
   ]
  },
  {
   "cell_type": "markdown",
   "id": "5dec0746-476d-4bff-bc6d-4c80e3faf3f5",
   "metadata": {},
   "source": [
    "**Перевірте, чи у всіх рядків вистачає даних: виведіть кількість пропусків (na) у кожному зі стовпців (використовуйте функції isna та sum)**"
   ]
  },
  {
   "cell_type": "code",
   "execution_count": 8,
   "id": "1f0c08c9-8cbe-4e76-8074-276689bdbcb4",
   "metadata": {},
   "outputs": [
    {
     "name": "stdout",
     "output_type": "stream",
     "text": [
      "name           0\n",
      "author         0\n",
      "user_rating    0\n",
      "reviews        0\n",
      "price          0\n",
      "year           0\n",
      "genre          0\n",
      "dtype: int64\n"
     ]
    }
   ],
   "source": [
    "empty_count = book_data.isna().sum()\n",
    "print(empty_count)"
   ]
  },
  {
   "cell_type": "markdown",
   "id": "46dbe8b3-f7ad-46c1-99b7-f6c0bfb8b391",
   "metadata": {},
   "source": [
    "**Відповідь: Чи є в якихось змінних пропуски? <font color='red'> ні </font>**"
   ]
  },
  {
   "cell_type": "markdown",
   "id": "7e5eb832-644f-4d9e-95f3-21fde7ecf902",
   "metadata": {},
   "source": [
    "<hr>"
   ]
  },
  {
   "cell_type": "markdown",
   "id": "a9c0966f-0ae1-4411-9be1-2786babe1d7f",
   "metadata": {},
   "source": [
    "**Перевірте, які є унікальні значення в колонці genre (використовуйте функцію unique)**"
   ]
  },
  {
   "cell_type": "code",
   "execution_count": 9,
   "id": "02f2aa92-8252-4255-a0bd-9f93bbda7814",
   "metadata": {},
   "outputs": [
    {
     "name": "stdout",
     "output_type": "stream",
     "text": [
      "['Non Fiction' 'Fiction']\n"
     ]
    }
   ],
   "source": [
    "unique_ganre = book_data['genre'].unique()\n",
    "print(unique_ganre)"
   ]
  },
  {
   "cell_type": "markdown",
   "id": "374c2fc1-3f1e-450a-9865-580322f843da",
   "metadata": {},
   "source": [
    "**Відповідь: Які є унікальні жанри?<font color='red'> Non Fiction,  Fiction</font>**"
   ]
  },
  {
   "cell_type": "markdown",
   "id": "82806cc4-aaac-4140-982f-887fb88765ec",
   "metadata": {},
   "source": [
    "<hr>"
   ]
  },
  {
   "cell_type": "markdown",
   "id": "a8dba828-7698-43e2-ba93-9a7be33e1063",
   "metadata": {},
   "source": [
    "**Тепер подивіться на розподіл цін: побудуйте діаграму (використовуйте kind='hist')**"
   ]
  },
  {
   "cell_type": "code",
   "execution_count": 10,
   "id": "576b8079-cf75-4dfc-ab38-6f0c99259c50",
   "metadata": {},
   "outputs": [
    {
     "data": {
      "image/png": "[encoded data removed]",
      "text/plain": [
       "<Figure size 640x480 with 1 Axes>"
      ]
     },
     "metadata": {},
     "output_type": "display_data"
    }
   ],
   "source": [
    "book_data['price'].plot(kind='hist', bins=20, edgecolor='black', color='green')\n",
    "plt.title('Distribution of book prices')\n",
    "plt.xlabel('Price')\n",
    "plt.ylabel('Number of books')\n",
    "plt.show()"
   ]
  },
  {
   "cell_type": "markdown",
   "id": "1bf2393b-96fc-4bd5-a493-84e28d8df840",
   "metadata": {},
   "source": [
    "**Визначте, яка ціна у нас максимальна, мінімальна, середня, медіанна (використовуйте функції max, min, mean, median)**"
   ]
  },
  {
   "cell_type": "code",
   "execution_count": 11,
   "id": "3c904c86-7b76-4e16-a8c0-ba428d582bca",
   "metadata": {},
   "outputs": [
    {
     "name": "stdout",
     "output_type": "stream",
     "text": [
      "max price: 105\n",
      "min price: 0\n",
      "mean price: 13.1\n",
      "median price: 11.0\n"
     ]
    }
   ],
   "source": [
    "max_price = book_data['price'].max()\n",
    "min_price = book_data['price'].min()\n",
    "mean_price = book_data['price'].mean()\n",
    "median_price = book_data['price'].median()\n",
    "\n",
    "print(\"max price:\", max_price)\n",
    "print(\"min price:\", min_price)\n",
    "print(\"mean price:\", mean_price)\n",
    "print(\"median price:\", median_price)"
   ]
  },
  {
   "cell_type": "markdown",
   "id": "01ca647e-c608-4f41-aeff-0f686cf963fb",
   "metadata": {},
   "source": []
  },
  {
   "cell_type": "markdown",
   "id": "3879ff1e-31b7-4a1e-9060-65f68990495d",
   "metadata": {},
   "source": [
    "## Пошук та сортування даних"
   ]
  },
  {
   "cell_type": "markdown",
   "id": "4f04afd8-1eea-4932-abb8-2e36212ccb0e",
   "metadata": {},
   "source": [
    "**Відповідь: Який рейтинг у датасеті найвищий? Відповідь: <font color='red'>4.9</font>**"
   ]
  },
  {
   "cell_type": "code",
   "execution_count": 12,
   "id": "8cbd31f3-b48d-4e86-a48f-42f4ba271dea",
   "metadata": {},
   "outputs": [
    {
     "name": "stdout",
     "output_type": "stream",
     "text": [
      "4.9\n"
     ]
    }
   ],
   "source": [
    "max_user_rating = book_data['user_rating'].max()\n",
    "print(max_user_rating)"
   ]
  },
  {
   "cell_type": "markdown",
   "id": "76726eaf-a204-4abe-af4b-295479107889",
   "metadata": {},
   "source": [
    "<hr>"
   ]
  },
  {
   "cell_type": "markdown",
   "id": "5870aa0f-bd95-4952-9d4a-956a2db73be1",
   "metadata": {},
   "source": [
    "**Відповідь: Скільки книг мають такий рейтинг? Відповідь: <font color='red'>52</font>**"
   ]
  },
  {
   "cell_type": "code",
   "execution_count": 13,
   "id": "d0d80bcf-786c-4aee-8ace-01a151ef04ea",
   "metadata": {},
   "outputs": [
    {
     "name": "stdout",
     "output_type": "stream",
     "text": [
      "52\n"
     ]
    }
   ],
   "source": [
    "books_with_max_rating = book_data[book_data['user_rating'] == max_user_rating]\n",
    "num_books_with_max_rating = len(books_with_max_rating)\n",
    "print(num_books_with_max_rating)"
   ]
  },
  {
   "cell_type": "markdown",
   "id": "91c11824-c6e6-42ad-898f-a42cd427c6e3",
   "metadata": {},
   "source": [
    "**Відповідь: Яка книга має найбільше відгуків? Відповідь: <font color='red'>Where the Crawdads Sing </font>**"
   ]
  },
  {
   "cell_type": "code",
   "execution_count": 14,
   "id": "a1e1f874-01ed-46a7-a12e-42575ed22c13",
   "metadata": {},
   "outputs": [
    {
     "name": "stdout",
     "output_type": "stream",
     "text": [
      "87841\n"
     ]
    },
    {
     "data": {
      "text/html": [
       "<div>\n",
       "<style scoped>\n",
       "    .dataframe tbody tr th:only-of-type {\n",
       "        vertical-align: middle;\n",
       "    }\n",
       "\n",
       "    .dataframe tbody tr th {\n",
       "        vertical-align: top;\n",
       "    }\n",
       "\n",
       "    .dataframe thead th {\n",
       "        text-align: right;\n",
       "    }\n",
       "</style>\n",
       "<table border=\"1\" class=\"dataframe\">\n",
       "  <thead>\n",
       "    <tr style=\"text-align: right;\">\n",
       "      <th></th>\n",
       "      <th>name</th>\n",
       "      <th>author</th>\n",
       "      <th>user_rating</th>\n",
       "      <th>reviews</th>\n",
       "      <th>price</th>\n",
       "      <th>year</th>\n",
       "      <th>genre</th>\n",
       "    </tr>\n",
       "  </thead>\n",
       "  <tbody>\n",
       "    <tr>\n",
       "      <th>534</th>\n",
       "      <td>Where the Crawdads Sing</td>\n",
       "      <td>Delia Owens</td>\n",
       "      <td>4.8</td>\n",
       "      <td>87841</td>\n",
       "      <td>15</td>\n",
       "      <td>2019</td>\n",
       "      <td>Fiction</td>\n",
       "    </tr>\n",
       "  </tbody>\n",
       "</table>\n",
       "</div>"
      ],
      "text/plain": [
       "                        name       author  user_rating  reviews  price  year  \\\n",
       "534  Where the Crawdads Sing  Delia Owens          4.8    87841     15  2019   \n",
       "\n",
       "       genre  \n",
       "534  Fiction  "
      ]
     },
     "execution_count": 14,
     "metadata": {},
     "output_type": "execute_result"
    }
   ],
   "source": [
    "max_reviews = book_data['reviews'].max()\n",
    "book_with_max_reviews = book_data[book_data['reviews']==max_reviews]\n",
    "\n",
    "print(max_reviews)\n",
    "book_with_max_reviews"
   ]
  },
  {
   "cell_type": "markdown",
   "id": "089858eb-e2d5-483b-9055-1ae0ec2e6015",
   "metadata": {},
   "source": [
    "<hr>"
   ]
  },
  {
   "cell_type": "markdown",
   "id": "77fe4152-c6cd-4f0a-9c7f-d47799437186",
   "metadata": {},
   "source": [
    "**Відповідь: З тих книг, що потрапили до Топ-50 у 2015 році, яка книга найдорожча (можна використати проміжний датафрейм)? Відповідь:<font color='red'> 46 </font>**"
   ]
  },
  {
   "cell_type": "code",
   "execution_count": 90,
   "id": "a5b5261b-5175-4961-acc8-cb05945fdd68",
   "metadata": {},
   "outputs": [
    {
     "name": "stdout",
     "output_type": "stream",
     "text": [
      "Number of books in 2015: 50\n",
      "The most expensive book among those in the Top 50 in 2015:\n"
     ]
    },
    {
     "data": {
      "text/html": [
       "<div>\n",
       "<style scoped>\n",
       "    .dataframe tbody tr th:only-of-type {\n",
       "        vertical-align: middle;\n",
       "    }\n",
       "\n",
       "    .dataframe tbody tr th {\n",
       "        vertical-align: top;\n",
       "    }\n",
       "\n",
       "    .dataframe thead th {\n",
       "        text-align: right;\n",
       "    }\n",
       "</style>\n",
       "<table border=\"1\" class=\"dataframe\">\n",
       "  <thead>\n",
       "    <tr style=\"text-align: right;\">\n",
       "      <th></th>\n",
       "      <th>name</th>\n",
       "      <th>price</th>\n",
       "    </tr>\n",
       "  </thead>\n",
       "  <tbody>\n",
       "    <tr>\n",
       "      <th>277</th>\n",
       "      <td>Publication Manual of the American Psychologic...</td>\n",
       "      <td>46</td>\n",
       "    </tr>\n",
       "  </tbody>\n",
       "</table>\n",
       "</div>"
      ],
      "text/plain": [
       "                                                  name  price\n",
       "277  Publication Manual of the American Psychologic...     46"
      ]
     },
     "execution_count": 90,
     "metadata": {},
     "output_type": "execute_result"
    }
   ],
   "source": [
    "#Перевіряємо, що у 2015 саме 50 книг\n",
    "books_in_2015 = book_data[book_data['year']==2015]\n",
    "num_books_in_2015 = len(books_in_2015)\n",
    "print(f\"Number of books in 2015: {num_books_in_2015}\")\n",
    "\n",
    "top_books_2015 = book_data[(book_data['year']==2015)]\n",
    "expensive_book = top_books_2015 [top_books_2015 ['price']==top_books_2015 ['price'].max()]\n",
    "\n",
    "print(\"The most expensive book among those in the Top 50 in 2015:\")\n",
    "expensive_book[['name', 'price']]"
   ]
  },
  {
   "cell_type": "code",
   "execution_count": 96,
   "id": "bc7be7ce-36d4-4c3d-afe2-fe82576335fb",
   "metadata": {},
   "outputs": [
    {
     "data": {
      "image/png": "[encoded data removed]",
      "text/plain": [
       "<Figure size 640x480 with 1 Axes>"
      ]
     },
     "metadata": {},
     "output_type": "display_data"
    }
   ],
   "source": [
    "books_in_2015['price'].plot(kind='hist', bins=10, edgecolor='white', color='black')\n",
    "plt.axvline(books_in_2015['price'].mean(), color='red', linestyle='--', label='Mean Rating')\n",
    "plt.title('The price of the top 50 books in 2015')\n",
    "plt.xlabel('Price')\n",
    "plt.ylabel('Number of books')\n",
    "plt.show()"
   ]
  },
  {
   "cell_type": "markdown",
   "id": "e09d6565-bab1-4e7d-b685-7de228e7eda3",
   "metadata": {},
   "source": [
    "<hr>"
   ]
  },
  {
   "cell_type": "markdown",
   "id": "ddf3e9d8-5e5e-47e5-a6d1-2971855236ae",
   "metadata": {},
   "source": [
    "**Відповідь: Скільки книг жанру Fiction потрапили до Топ-50 у 2010 році (використовуйте &)? Відповідь: <font color='red'>20</font>**"
   ]
  },
  {
   "cell_type": "code",
   "execution_count": 79,
   "id": "901d1aca-136b-4a23-81d1-2d89bf773270",
   "metadata": {},
   "outputs": [
    {
     "name": "stdout",
     "output_type": "stream",
     "text": [
      "Number of books in 2010: 50\n",
      "The number of books in the Fiction genre that made it to the Top 50 in 2010: 20\n"
     ]
    }
   ],
   "source": [
    "#Перевіряємо, що у 2010 саме 50 книг\n",
    "books_in_2010 = book_data[book_data['year']==2010]\n",
    "num_books_in_2010 = len(books_in_2010)\n",
    "print(f\"Number of books in 2010: {num_books_in_2010}\")\n",
    "\n",
    "books_2010_genre_fiction = book_data[((book_data['year']==2010)&(book_data['genre']=='Fiction'))]\n",
    "sum_books = len(books_2010_genre_fiction)\n",
    "\n",
    "print(\"The number of books in the Fiction genre that made it to the Top 50 in 2010:\", sum_books)"
   ]
  },
  {
   "cell_type": "markdown",
   "id": "e43ca80f-c062-4c68-977b-3ef29c0a7132",
   "metadata": {},
   "source": [
    "<hr>"
   ]
  },
  {
   "cell_type": "markdown",
   "id": "60395867-3133-48b9-8965-fde932ec53b7",
   "metadata": {},
   "source": [
    "**Скільки книг з рейтингом 4.9 потрапило до рейтингу у 2010 та 2011 роках (використовуйте | або функцію isin)? Відповідь:<font color='red'> 1 </font>**"
   ]
  },
  {
   "cell_type": "code",
   "execution_count": 16,
   "id": "bb4a5909-ad92-4776-bf58-5066d2545455",
   "metadata": {},
   "outputs": [
    {
     "data": {
      "text/plain": [
       "1"
      ]
     },
     "execution_count": 16,
     "metadata": {},
     "output_type": "execute_result"
    }
   ],
   "source": [
    "\n",
    "books_2010_2011 = book_data[(book_data['year'].isin([2010, 2011]))&(book_data['user_rating'] == 4.9)]\n",
    "count_books_2010_2011 = len(books_2010_2011)\n",
    "count_books_2010_2011"
   ]
  },
  {
   "cell_type": "markdown",
   "id": "c4007753-063e-4f75-8edb-2760ff3f6ffd",
   "metadata": {},
   "source": [
    "**І насамкінець, давайте відсортуємо за зростанням ціни всі книги, які потрапили до рейтингу в 2015 році і коштують дешевше за 8 доларів (використовуйте функцію sort_values).**"
   ]
  },
  {
   "cell_type": "code",
   "execution_count": 21,
   "id": "e8ea910a-5da5-408e-947c-28ed4a148a64",
   "metadata": {},
   "outputs": [
    {
     "data": {
      "text/html": [
       "<div>\n",
       "<style scoped>\n",
       "    .dataframe tbody tr th:only-of-type {\n",
       "        vertical-align: middle;\n",
       "    }\n",
       "\n",
       "    .dataframe tbody tr th {\n",
       "        vertical-align: top;\n",
       "    }\n",
       "\n",
       "    .dataframe thead th {\n",
       "        text-align: right;\n",
       "    }\n",
       "</style>\n",
       "<table border=\"1\" class=\"dataframe\">\n",
       "  <thead>\n",
       "    <tr style=\"text-align: right;\">\n",
       "      <th></th>\n",
       "      <th>name</th>\n",
       "      <th>author</th>\n",
       "      <th>user_rating</th>\n",
       "      <th>reviews</th>\n",
       "      <th>price</th>\n",
       "      <th>year</th>\n",
       "      <th>genre</th>\n",
       "    </tr>\n",
       "  </thead>\n",
       "  <tbody>\n",
       "    <tr>\n",
       "      <th>507</th>\n",
       "      <td>To Kill a Mockingbird</td>\n",
       "      <td>Harper Lee</td>\n",
       "      <td>4.8</td>\n",
       "      <td>26234</td>\n",
       "      <td>0</td>\n",
       "      <td>2015</td>\n",
       "      <td>Fiction</td>\n",
       "    </tr>\n",
       "    <tr>\n",
       "      <th>210</th>\n",
       "      <td>Laugh-Out-Loud Jokes for Kids</td>\n",
       "      <td>Rob Elliott</td>\n",
       "      <td>4.6</td>\n",
       "      <td>6990</td>\n",
       "      <td>4</td>\n",
       "      <td>2015</td>\n",
       "      <td>Non Fiction</td>\n",
       "    </tr>\n",
       "    <tr>\n",
       "      <th>206</th>\n",
       "      <td>Knock-Knock Jokes for Kids</td>\n",
       "      <td>Rob Elliott</td>\n",
       "      <td>4.5</td>\n",
       "      <td>3673</td>\n",
       "      <td>4</td>\n",
       "      <td>2015</td>\n",
       "      <td>Non Fiction</td>\n",
       "    </tr>\n",
       "    <tr>\n",
       "      <th>111</th>\n",
       "      <td>First 100 Words</td>\n",
       "      <td>Roger Priddy</td>\n",
       "      <td>4.7</td>\n",
       "      <td>17323</td>\n",
       "      <td>4</td>\n",
       "      <td>2015</td>\n",
       "      <td>Non Fiction</td>\n",
       "    </tr>\n",
       "    <tr>\n",
       "      <th>123</th>\n",
       "      <td>Giraffes Can't Dance</td>\n",
       "      <td>Giles Andreae</td>\n",
       "      <td>4.8</td>\n",
       "      <td>14038</td>\n",
       "      <td>4</td>\n",
       "      <td>2015</td>\n",
       "      <td>Fiction</td>\n",
       "    </tr>\n",
       "    <tr>\n",
       "      <th>54</th>\n",
       "      <td>Creative Haven Creative Cats Coloring Book (Ad...</td>\n",
       "      <td>Marjorie Sarnat</td>\n",
       "      <td>4.8</td>\n",
       "      <td>4022</td>\n",
       "      <td>4</td>\n",
       "      <td>2015</td>\n",
       "      <td>Non Fiction</td>\n",
       "    </tr>\n",
       "    <tr>\n",
       "      <th>63</th>\n",
       "      <td>Dear Zoo: A Lift-the-Flap Book</td>\n",
       "      <td>Rod Campbell</td>\n",
       "      <td>4.8</td>\n",
       "      <td>10922</td>\n",
       "      <td>5</td>\n",
       "      <td>2015</td>\n",
       "      <td>Fiction</td>\n",
       "    </tr>\n",
       "    <tr>\n",
       "      <th>89</th>\n",
       "      <td>Dover Creative Haven Art Nouveau Animal Design...</td>\n",
       "      <td>Marty Noble</td>\n",
       "      <td>4.6</td>\n",
       "      <td>2134</td>\n",
       "      <td>5</td>\n",
       "      <td>2015</td>\n",
       "      <td>Non Fiction</td>\n",
       "    </tr>\n",
       "    <tr>\n",
       "      <th>478</th>\n",
       "      <td>The Very Hungry Caterpillar</td>\n",
       "      <td>Eric Carle</td>\n",
       "      <td>4.9</td>\n",
       "      <td>19546</td>\n",
       "      <td>5</td>\n",
       "      <td>2015</td>\n",
       "      <td>Fiction</td>\n",
       "    </tr>\n",
       "    <tr>\n",
       "      <th>201</th>\n",
       "      <td>Killing Reagan: The Violent Assault That Chang...</td>\n",
       "      <td>Bill O'Reilly</td>\n",
       "      <td>4.6</td>\n",
       "      <td>5235</td>\n",
       "      <td>5</td>\n",
       "      <td>2015</td>\n",
       "      <td>Non Fiction</td>\n",
       "    </tr>\n",
       "    <tr>\n",
       "      <th>28</th>\n",
       "      <td>Baby Touch and Feel: Animals</td>\n",
       "      <td>DK</td>\n",
       "      <td>4.6</td>\n",
       "      <td>5360</td>\n",
       "      <td>5</td>\n",
       "      <td>2015</td>\n",
       "      <td>Non Fiction</td>\n",
       "    </tr>\n",
       "    <tr>\n",
       "      <th>224</th>\n",
       "      <td>Love You Forever</td>\n",
       "      <td>Robert Munsch</td>\n",
       "      <td>4.8</td>\n",
       "      <td>18613</td>\n",
       "      <td>5</td>\n",
       "      <td>2015</td>\n",
       "      <td>Fiction</td>\n",
       "    </tr>\n",
       "    <tr>\n",
       "      <th>55</th>\n",
       "      <td>Creative Haven Owls Coloring Book (Adult Color...</td>\n",
       "      <td>Marjorie Sarnat</td>\n",
       "      <td>4.8</td>\n",
       "      <td>3871</td>\n",
       "      <td>5</td>\n",
       "      <td>2015</td>\n",
       "      <td>Non Fiction</td>\n",
       "    </tr>\n",
       "    <tr>\n",
       "      <th>17</th>\n",
       "      <td>Adult Coloring Book: Stress Relieving Patterns</td>\n",
       "      <td>Blue Star Coloring</td>\n",
       "      <td>4.4</td>\n",
       "      <td>2951</td>\n",
       "      <td>6</td>\n",
       "      <td>2015</td>\n",
       "      <td>Non Fiction</td>\n",
       "    </tr>\n",
       "    <tr>\n",
       "      <th>376</th>\n",
       "      <td>The Four Agreements: A Practical Guide to Pers...</td>\n",
       "      <td>Don Miguel Ruiz</td>\n",
       "      <td>4.7</td>\n",
       "      <td>23308</td>\n",
       "      <td>6</td>\n",
       "      <td>2015</td>\n",
       "      <td>Non Fiction</td>\n",
       "    </tr>\n",
       "    <tr>\n",
       "      <th>16</th>\n",
       "      <td>Adult Coloring Book: Stress Relieving Animal D...</td>\n",
       "      <td>Blue Star Coloring</td>\n",
       "      <td>4.6</td>\n",
       "      <td>2925</td>\n",
       "      <td>6</td>\n",
       "      <td>2015</td>\n",
       "      <td>Non Fiction</td>\n",
       "    </tr>\n",
       "    <tr>\n",
       "      <th>253</th>\n",
       "      <td>Old School (Diary of a Wimpy Kid #10)</td>\n",
       "      <td>Jeff Kinney</td>\n",
       "      <td>4.8</td>\n",
       "      <td>6169</td>\n",
       "      <td>7</td>\n",
       "      <td>2015</td>\n",
       "      <td>Fiction</td>\n",
       "    </tr>\n",
       "  </tbody>\n",
       "</table>\n",
       "</div>"
      ],
      "text/plain": [
       "                                                  name              author  \\\n",
       "507                              To Kill a Mockingbird          Harper Lee   \n",
       "210                      Laugh-Out-Loud Jokes for Kids         Rob Elliott   \n",
       "206                         Knock-Knock Jokes for Kids         Rob Elliott   \n",
       "111                                    First 100 Words        Roger Priddy   \n",
       "123                               Giraffes Can't Dance       Giles Andreae   \n",
       "54   Creative Haven Creative Cats Coloring Book (Ad...     Marjorie Sarnat   \n",
       "63                      Dear Zoo: A Lift-the-Flap Book        Rod Campbell   \n",
       "89   Dover Creative Haven Art Nouveau Animal Design...         Marty Noble   \n",
       "478                        The Very Hungry Caterpillar          Eric Carle   \n",
       "201  Killing Reagan: The Violent Assault That Chang...       Bill O'Reilly   \n",
       "28                        Baby Touch and Feel: Animals                  DK   \n",
       "224                                   Love You Forever       Robert Munsch   \n",
       "55   Creative Haven Owls Coloring Book (Adult Color...     Marjorie Sarnat   \n",
       "17      Adult Coloring Book: Stress Relieving Patterns  Blue Star Coloring   \n",
       "376  The Four Agreements: A Practical Guide to Pers...     Don Miguel Ruiz   \n",
       "16   Adult Coloring Book: Stress Relieving Animal D...  Blue Star Coloring   \n",
       "253              Old School (Diary of a Wimpy Kid #10)         Jeff Kinney   \n",
       "\n",
       "     user_rating  reviews  price  year        genre  \n",
       "507          4.8    26234      0  2015      Fiction  \n",
       "210          4.6     6990      4  2015  Non Fiction  \n",
       "206          4.5     3673      4  2015  Non Fiction  \n",
       "111          4.7    17323      4  2015  Non Fiction  \n",
       "123          4.8    14038      4  2015      Fiction  \n",
       "54           4.8     4022      4  2015  Non Fiction  \n",
       "63           4.8    10922      5  2015      Fiction  \n",
       "89           4.6     2134      5  2015  Non Fiction  \n",
       "478          4.9    19546      5  2015      Fiction  \n",
       "201          4.6     5235      5  2015  Non Fiction  \n",
       "28           4.6     5360      5  2015  Non Fiction  \n",
       "224          4.8    18613      5  2015      Fiction  \n",
       "55           4.8     3871      5  2015  Non Fiction  \n",
       "17           4.4     2951      6  2015  Non Fiction  \n",
       "376          4.7    23308      6  2015  Non Fiction  \n",
       "16           4.6     2925      6  2015  Non Fiction  \n",
       "253          4.8     6169      7  2015      Fiction  "
      ]
     },
     "execution_count": 21,
     "metadata": {},
     "output_type": "execute_result"
    }
   ],
   "source": [
    "books_2015 = book_data[(book_data['year']==2015)&(book_data['price']<8)]\n",
    "sort_books_2015 = books_2015.sort_values(by='price')\n",
    "sort_books_2015\n",
    "#sort_books_2015.iloc[-1]"
   ]
  },
  {
   "cell_type": "markdown",
   "id": "f089e589-4a1f-4cce-8e42-a98e2a8cdf6a",
   "metadata": {},
   "source": [
    "**Відповідь: Яка книга остання у відсортованому списку? Відповідь:<font color='red'> Old School (Diary of a Wimpy Kid #10)</font>**"
   ]
  },
  {
   "cell_type": "markdown",
   "id": "e093d801-9489-4d94-a139-59b21b5c86e7",
   "metadata": {},
   "source": [
    "## Агрегування даних та з'єднання таблиць"
   ]
  },
  {
   "cell_type": "markdown",
   "id": "a51e065c-2ad9-46b5-bded-0b5fa216e72f",
   "metadata": {},
   "source": [
    "**Для початку давайте подивимося на максимальну та мінімальну ціни для кожного з жанрів (використовуйте функції groupby та agg, для підрахунку мінімальних та максимальних значень використовуйте max та min). Не беріть усі стовпці, виберіть тільки потрібні вам**"
   ]
  },
  {
   "cell_type": "code",
   "execution_count": 32,
   "id": "7b68e26a-1ce4-4129-b6e1-421cff04f150",
   "metadata": {},
   "outputs": [
    {
     "data": {
      "text/html": [
       "<div>\n",
       "<style scoped>\n",
       "    .dataframe tbody tr th:only-of-type {\n",
       "        vertical-align: middle;\n",
       "    }\n",
       "\n",
       "    .dataframe tbody tr th {\n",
       "        vertical-align: top;\n",
       "    }\n",
       "\n",
       "    .dataframe thead th {\n",
       "        text-align: right;\n",
       "    }\n",
       "</style>\n",
       "<table border=\"1\" class=\"dataframe\">\n",
       "  <thead>\n",
       "    <tr style=\"text-align: right;\">\n",
       "      <th></th>\n",
       "      <th>min</th>\n",
       "      <th>max</th>\n",
       "    </tr>\n",
       "    <tr>\n",
       "      <th>genre</th>\n",
       "      <th></th>\n",
       "      <th></th>\n",
       "    </tr>\n",
       "  </thead>\n",
       "  <tbody>\n",
       "    <tr>\n",
       "      <th>Fiction</th>\n",
       "      <td>0</td>\n",
       "      <td>82</td>\n",
       "    </tr>\n",
       "    <tr>\n",
       "      <th>Non Fiction</th>\n",
       "      <td>0</td>\n",
       "      <td>105</td>\n",
       "    </tr>\n",
       "  </tbody>\n",
       "</table>\n",
       "</div>"
      ],
      "text/plain": [
       "             min  max\n",
       "genre                \n",
       "Fiction        0   82\n",
       "Non Fiction    0  105"
      ]
     },
     "execution_count": 32,
     "metadata": {},
     "output_type": "execute_result"
    }
   ],
   "source": [
    "genre_agg = book_data.groupby('genre')['price'].agg(['min','max'])\n",
    "genre_agg "
   ]
  },
  {
   "cell_type": "markdown",
   "id": "53d555d6-f2df-403b-a210-630367cfeafb",
   "metadata": {},
   "source": [
    "**Відповідь: Максимальна ціна для жанру Fiction: 82**"
   ]
  },
  {
   "cell_type": "markdown",
   "id": "6b41a3df-c3f1-4847-b4dd-dd939a07ad26",
   "metadata": {},
   "source": [
    "**Відповідь: Мінімальна ціна для жанру Fiction: 0**"
   ]
  },
  {
   "cell_type": "markdown",
   "id": "22330d1a-451d-4538-8a70-b4c95e91902a",
   "metadata": {},
   "source": [
    "**Відповідь: Максимальна ціна для жанру Non Fiction: 105**"
   ]
  },
  {
   "cell_type": "markdown",
   "id": "9dca62a3-f139-4500-922e-033d54f20148",
   "metadata": {},
   "source": [
    "**Відповідь: Мінімальна ціна для жанру Non Fiction: 0**"
   ]
  },
  {
   "cell_type": "markdown",
   "id": "3c658fb0-1ae9-49de-8b22-54cc0a07815f",
   "metadata": {},
   "source": [
    "**Тепер створіть новий датафрейм, який вміщатиме кількість книг для кожного з авторів (використовуйте функції groupby та agg, для підрахунку кількості використовуйте count). Не беріть усі стовпці, виберете тільки потрібні**"
   ]
  },
  {
   "cell_type": "code",
   "execution_count": 56,
   "id": "837cd62f-dd97-4185-a1c7-86949aa9c14b",
   "metadata": {},
   "outputs": [
    {
     "data": {
      "text/html": [
       "<div>\n",
       "<style scoped>\n",
       "    .dataframe tbody tr th:only-of-type {\n",
       "        vertical-align: middle;\n",
       "    }\n",
       "\n",
       "    .dataframe tbody tr th {\n",
       "        vertical-align: top;\n",
       "    }\n",
       "\n",
       "    .dataframe thead th {\n",
       "        text-align: right;\n",
       "    }\n",
       "</style>\n",
       "<table border=\"1\" class=\"dataframe\">\n",
       "  <thead>\n",
       "    <tr style=\"text-align: right;\">\n",
       "      <th></th>\n",
       "      <th>books_count</th>\n",
       "    </tr>\n",
       "    <tr>\n",
       "      <th>author</th>\n",
       "      <th></th>\n",
       "    </tr>\n",
       "  </thead>\n",
       "  <tbody>\n",
       "    <tr>\n",
       "      <th>Abraham Verghese</th>\n",
       "      <td>2</td>\n",
       "    </tr>\n",
       "    <tr>\n",
       "      <th>Adam Gasiewski</th>\n",
       "      <td>1</td>\n",
       "    </tr>\n",
       "    <tr>\n",
       "      <th>Adam Mansbach</th>\n",
       "      <td>1</td>\n",
       "    </tr>\n",
       "    <tr>\n",
       "      <th>Adir Levy</th>\n",
       "      <td>1</td>\n",
       "    </tr>\n",
       "    <tr>\n",
       "      <th>Admiral William H. McRaven</th>\n",
       "      <td>1</td>\n",
       "    </tr>\n",
       "  </tbody>\n",
       "</table>\n",
       "</div>"
      ],
      "text/plain": [
       "                            books_count\n",
       "author                                 \n",
       "Abraham Verghese                      2\n",
       "Adam Gasiewski                        1\n",
       "Adam Mansbach                         1\n",
       "Adir Levy                             1\n",
       "Admiral William H. McRaven            1"
      ]
     },
     "execution_count": 56,
     "metadata": {},
     "output_type": "execute_result"
    }
   ],
   "source": [
    "authors_books= book_data.groupby('author').agg(books_count=('name', 'count'))\n",
    "authors_books.head()"
   ]
  },
  {
   "cell_type": "markdown",
   "id": "77bc1ca8-4e35-4b87-b7c8-788db83b2eb5",
   "metadata": {},
   "source": [
    "**Відповідь: Якої розмірності вийшла таблиця? Відповідь: 248, 1**"
   ]
  },
  {
   "cell_type": "code",
   "execution_count": 57,
   "id": "43d0962a-d01f-4dc9-9cc5-e5682e38bd7f",
   "metadata": {},
   "outputs": [
    {
     "data": {
      "text/plain": [
       "(248, 1)"
      ]
     },
     "execution_count": 57,
     "metadata": {},
     "output_type": "execute_result"
    }
   ],
   "source": [
    "authors_books.shape"
   ]
  },
  {
   "cell_type": "markdown",
   "id": "ef20a9c1-685d-4d67-8e78-29f39ddd8dfe",
   "metadata": {},
   "source": [
    "**Відповідь: Який автор має найбільше книг? Відповідь: <font color='red'> Jeff Kinney </font>**"
   ]
  },
  {
   "cell_type": "code",
   "execution_count": 62,
   "id": "61aa679e-19ec-41db-a31e-ee8beb51aaf8",
   "metadata": {},
   "outputs": [
    {
     "data": {
      "text/html": [
       "<div>\n",
       "<style scoped>\n",
       "    .dataframe tbody tr th:only-of-type {\n",
       "        vertical-align: middle;\n",
       "    }\n",
       "\n",
       "    .dataframe tbody tr th {\n",
       "        vertical-align: top;\n",
       "    }\n",
       "\n",
       "    .dataframe thead th {\n",
       "        text-align: right;\n",
       "    }\n",
       "</style>\n",
       "<table border=\"1\" class=\"dataframe\">\n",
       "  <thead>\n",
       "    <tr style=\"text-align: right;\">\n",
       "      <th></th>\n",
       "      <th>books_count</th>\n",
       "    </tr>\n",
       "    <tr>\n",
       "      <th>author</th>\n",
       "      <th></th>\n",
       "    </tr>\n",
       "  </thead>\n",
       "  <tbody>\n",
       "    <tr>\n",
       "      <th>Jeff Kinney</th>\n",
       "      <td>12</td>\n",
       "    </tr>\n",
       "  </tbody>\n",
       "</table>\n",
       "</div>"
      ],
      "text/plain": [
       "             books_count\n",
       "author                  \n",
       "Jeff Kinney           12"
      ]
     },
     "execution_count": 62,
     "metadata": {},
     "output_type": "execute_result"
    }
   ],
   "source": [
    "max_value = authors_books['books_count'].max()\n",
    "author_with_max_books = authors_books[authors_books['books_count'] == max_value]\n",
    "author_with_max_books"
   ]
  },
  {
   "cell_type": "markdown",
   "id": "ea4c015b-5f49-47e1-9043-b0c9eaa26378",
   "metadata": {},
   "source": [
    "**Відповідь: Скільки книг цього автора? Відповідь: <font color='red'>12</font>**"
   ]
  },
  {
   "cell_type": "markdown",
   "id": "5560e403-7931-4c19-a8b0-e03289056a57",
   "metadata": {},
   "source": [
    "**Тепер створіть другий датафрейм, який буде вміщати середній рейтинг для кожного автора (використовуйте функції groupby та agg, для підрахунку середнього значення використовуйте mean). Не беріть усі стовпці, виберете тільки потрібні**"
   ]
  },
  {
   "cell_type": "code",
   "execution_count": 64,
   "id": "f3d2556b-306e-493e-b794-284694cd240c",
   "metadata": {},
   "outputs": [
    {
     "data": {
      "text/html": [
       "<div>\n",
       "<style scoped>\n",
       "    .dataframe tbody tr th:only-of-type {\n",
       "        vertical-align: middle;\n",
       "    }\n",
       "\n",
       "    .dataframe tbody tr th {\n",
       "        vertical-align: top;\n",
       "    }\n",
       "\n",
       "    .dataframe thead th {\n",
       "        text-align: right;\n",
       "    }\n",
       "</style>\n",
       "<table border=\"1\" class=\"dataframe\">\n",
       "  <thead>\n",
       "    <tr style=\"text-align: right;\">\n",
       "      <th></th>\n",
       "      <th>mean_rating</th>\n",
       "    </tr>\n",
       "    <tr>\n",
       "      <th>author</th>\n",
       "      <th></th>\n",
       "    </tr>\n",
       "  </thead>\n",
       "  <tbody>\n",
       "    <tr>\n",
       "      <th>Abraham Verghese</th>\n",
       "      <td>4.600000</td>\n",
       "    </tr>\n",
       "    <tr>\n",
       "      <th>Adam Gasiewski</th>\n",
       "      <td>4.400000</td>\n",
       "    </tr>\n",
       "    <tr>\n",
       "      <th>Adam Mansbach</th>\n",
       "      <td>4.800000</td>\n",
       "    </tr>\n",
       "    <tr>\n",
       "      <th>Adir Levy</th>\n",
       "      <td>4.800000</td>\n",
       "    </tr>\n",
       "    <tr>\n",
       "      <th>Admiral William H. McRaven</th>\n",
       "      <td>4.700000</td>\n",
       "    </tr>\n",
       "    <tr>\n",
       "      <th>...</th>\n",
       "      <td>...</td>\n",
       "    </tr>\n",
       "    <tr>\n",
       "      <th>Walter Isaacson</th>\n",
       "      <td>4.566667</td>\n",
       "    </tr>\n",
       "    <tr>\n",
       "      <th>William Davis</th>\n",
       "      <td>4.400000</td>\n",
       "    </tr>\n",
       "    <tr>\n",
       "      <th>William P. Young</th>\n",
       "      <td>4.600000</td>\n",
       "    </tr>\n",
       "    <tr>\n",
       "      <th>Wizards RPG Team</th>\n",
       "      <td>4.800000</td>\n",
       "    </tr>\n",
       "    <tr>\n",
       "      <th>Zhi Gang Sha</th>\n",
       "      <td>4.600000</td>\n",
       "    </tr>\n",
       "  </tbody>\n",
       "</table>\n",
       "<p>248 rows × 1 columns</p>\n",
       "</div>"
      ],
      "text/plain": [
       "                            mean_rating\n",
       "author                                 \n",
       "Abraham Verghese               4.600000\n",
       "Adam Gasiewski                 4.400000\n",
       "Adam Mansbach                  4.800000\n",
       "Adir Levy                      4.800000\n",
       "Admiral William H. McRaven     4.700000\n",
       "...                                 ...\n",
       "Walter Isaacson                4.566667\n",
       "William Davis                  4.400000\n",
       "William P. Young               4.600000\n",
       "Wizards RPG Team               4.800000\n",
       "Zhi Gang Sha                   4.600000\n",
       "\n",
       "[248 rows x 1 columns]"
      ]
     },
     "execution_count": 64,
     "metadata": {},
     "output_type": "execute_result"
    }
   ],
   "source": [
    "mean_rating = book_data.groupby('author').agg(mean_rating=('user_rating','mean'))\n",
    "mean_rating"
   ]
  },
  {
   "cell_type": "markdown",
   "id": "18da370e-fdec-44ab-8a90-d043154ce77b",
   "metadata": {},
   "source": [
    "**Відповідь: У якого автора середній рейтинг мінімальний? Відповідь: <font color='red'>Donna Tartt</font>**"
   ]
  },
  {
   "cell_type": "code",
   "execution_count": 68,
   "id": "5421c746-2540-4abc-8619-36f29b56361d",
   "metadata": {},
   "outputs": [
    {
     "data": {
      "text/html": [
       "<div>\n",
       "<style scoped>\n",
       "    .dataframe tbody tr th:only-of-type {\n",
       "        vertical-align: middle;\n",
       "    }\n",
       "\n",
       "    .dataframe tbody tr th {\n",
       "        vertical-align: top;\n",
       "    }\n",
       "\n",
       "    .dataframe thead th {\n",
       "        text-align: right;\n",
       "    }\n",
       "</style>\n",
       "<table border=\"1\" class=\"dataframe\">\n",
       "  <thead>\n",
       "    <tr style=\"text-align: right;\">\n",
       "      <th></th>\n",
       "      <th>mean_rating</th>\n",
       "    </tr>\n",
       "    <tr>\n",
       "      <th>author</th>\n",
       "      <th></th>\n",
       "    </tr>\n",
       "  </thead>\n",
       "  <tbody>\n",
       "    <tr>\n",
       "      <th>Donna Tartt</th>\n",
       "      <td>3.9</td>\n",
       "    </tr>\n",
       "  </tbody>\n",
       "</table>\n",
       "</div>"
      ],
      "text/plain": [
       "             mean_rating\n",
       "author                  \n",
       "Donna Tartt          3.9"
      ]
     },
     "execution_count": 68,
     "metadata": {},
     "output_type": "execute_result"
    }
   ],
   "source": [
    "min_rating = mean_rating['mean_rating'].min()\n",
    "author_with_min_rating = mean_rating[mean_rating['mean_rating']==min_rating]\n",
    "author_with_min_rating"
   ]
  },
  {
   "cell_type": "markdown",
   "id": "b95cb67e-85ff-449e-8acf-edd6ab04bed5",
   "metadata": {},
   "source": [
    "**Відповідь: Який у цього автора середній рейтинг? Відповідь: <font color='red'>3.9</font>**"
   ]
  },
  {
   "cell_type": "markdown",
   "id": "9de828e7-d601-49e6-81c8-1f46ab4d0f6b",
   "metadata": {},
   "source": [
    "**З'єднайте останні два датафрейми так, щоб для кожного автора було видно кількість книг та середній рейтинг (Використовуйте функцію concat з параметром axis=1). Збережіть результат у змінну**"
   ]
  },
  {
   "cell_type": "code",
   "execution_count": 73,
   "id": "c965c7d9-ee12-497c-9258-ded2eac793a3",
   "metadata": {},
   "outputs": [
    {
     "data": {
      "text/html": [
       "<div>\n",
       "<style scoped>\n",
       "    .dataframe tbody tr th:only-of-type {\n",
       "        vertical-align: middle;\n",
       "    }\n",
       "\n",
       "    .dataframe tbody tr th {\n",
       "        vertical-align: top;\n",
       "    }\n",
       "\n",
       "    .dataframe thead th {\n",
       "        text-align: right;\n",
       "    }\n",
       "</style>\n",
       "<table border=\"1\" class=\"dataframe\">\n",
       "  <thead>\n",
       "    <tr style=\"text-align: right;\">\n",
       "      <th></th>\n",
       "      <th>books_count</th>\n",
       "      <th>mean_rating</th>\n",
       "    </tr>\n",
       "    <tr>\n",
       "      <th>author</th>\n",
       "      <th></th>\n",
       "      <th></th>\n",
       "    </tr>\n",
       "  </thead>\n",
       "  <tbody>\n",
       "    <tr>\n",
       "      <th>Abraham Verghese</th>\n",
       "      <td>2</td>\n",
       "      <td>4.600000</td>\n",
       "    </tr>\n",
       "    <tr>\n",
       "      <th>Adam Gasiewski</th>\n",
       "      <td>1</td>\n",
       "      <td>4.400000</td>\n",
       "    </tr>\n",
       "    <tr>\n",
       "      <th>Adam Mansbach</th>\n",
       "      <td>1</td>\n",
       "      <td>4.800000</td>\n",
       "    </tr>\n",
       "    <tr>\n",
       "      <th>Adir Levy</th>\n",
       "      <td>1</td>\n",
       "      <td>4.800000</td>\n",
       "    </tr>\n",
       "    <tr>\n",
       "      <th>Admiral William H. McRaven</th>\n",
       "      <td>1</td>\n",
       "      <td>4.700000</td>\n",
       "    </tr>\n",
       "    <tr>\n",
       "      <th>...</th>\n",
       "      <td>...</td>\n",
       "      <td>...</td>\n",
       "    </tr>\n",
       "    <tr>\n",
       "      <th>Walter Isaacson</th>\n",
       "      <td>3</td>\n",
       "      <td>4.566667</td>\n",
       "    </tr>\n",
       "    <tr>\n",
       "      <th>William Davis</th>\n",
       "      <td>2</td>\n",
       "      <td>4.400000</td>\n",
       "    </tr>\n",
       "    <tr>\n",
       "      <th>William P. Young</th>\n",
       "      <td>2</td>\n",
       "      <td>4.600000</td>\n",
       "    </tr>\n",
       "    <tr>\n",
       "      <th>Wizards RPG Team</th>\n",
       "      <td>3</td>\n",
       "      <td>4.800000</td>\n",
       "    </tr>\n",
       "    <tr>\n",
       "      <th>Zhi Gang Sha</th>\n",
       "      <td>2</td>\n",
       "      <td>4.600000</td>\n",
       "    </tr>\n",
       "  </tbody>\n",
       "</table>\n",
       "<p>248 rows × 2 columns</p>\n",
       "</div>"
      ],
      "text/plain": [
       "                            books_count  mean_rating\n",
       "author                                              \n",
       "Abraham Verghese                      2     4.600000\n",
       "Adam Gasiewski                        1     4.400000\n",
       "Adam Mansbach                         1     4.800000\n",
       "Adir Levy                             1     4.800000\n",
       "Admiral William H. McRaven            1     4.700000\n",
       "...                                 ...          ...\n",
       "Walter Isaacson                       3     4.566667\n",
       "William Davis                         2     4.400000\n",
       "William P. Young                      2     4.600000\n",
       "Wizards RPG Team                      3     4.800000\n",
       "Zhi Gang Sha                          2     4.600000\n",
       "\n",
       "[248 rows x 2 columns]"
      ]
     },
     "execution_count": 73,
     "metadata": {},
     "output_type": "execute_result"
    }
   ],
   "source": [
    "result_data = pd.concat([authors_books, mean_rating], axis=1)\n",
    "result_data"
   ]
  },
  {
   "cell_type": "markdown",
   "id": "cf604d69-7b7d-47df-97ad-c762372cbc46",
   "metadata": {},
   "source": [
    "**Відсортуйте датафрейм за зростаючою кількістю книг та зростаючим рейтингом (використовуйте функцію sort_values)**"
   ]
  },
  {
   "cell_type": "code",
   "execution_count": 74,
   "id": "c87b556d-a4b3-478c-a3d1-54b511d8bfcc",
   "metadata": {},
   "outputs": [
    {
     "data": {
      "text/html": [
       "<div>\n",
       "<style scoped>\n",
       "    .dataframe tbody tr th:only-of-type {\n",
       "        vertical-align: middle;\n",
       "    }\n",
       "\n",
       "    .dataframe tbody tr th {\n",
       "        vertical-align: top;\n",
       "    }\n",
       "\n",
       "    .dataframe thead th {\n",
       "        text-align: right;\n",
       "    }\n",
       "</style>\n",
       "<table border=\"1\" class=\"dataframe\">\n",
       "  <thead>\n",
       "    <tr style=\"text-align: right;\">\n",
       "      <th></th>\n",
       "      <th>books_count</th>\n",
       "      <th>mean_rating</th>\n",
       "    </tr>\n",
       "    <tr>\n",
       "      <th>author</th>\n",
       "      <th></th>\n",
       "      <th></th>\n",
       "    </tr>\n",
       "  </thead>\n",
       "  <tbody>\n",
       "    <tr>\n",
       "      <th>Muriel Barbery</th>\n",
       "      <td>1</td>\n",
       "      <td>4.000000</td>\n",
       "    </tr>\n",
       "    <tr>\n",
       "      <th>Chris Cleave</th>\n",
       "      <td>1</td>\n",
       "      <td>4.100000</td>\n",
       "    </tr>\n",
       "    <tr>\n",
       "      <th>Ian K. Smith M.D.</th>\n",
       "      <td>1</td>\n",
       "      <td>4.100000</td>\n",
       "    </tr>\n",
       "    <tr>\n",
       "      <th>Pierre Dukan</th>\n",
       "      <td>1</td>\n",
       "      <td>4.100000</td>\n",
       "    </tr>\n",
       "    <tr>\n",
       "      <th>Elizabeth Strout</th>\n",
       "      <td>1</td>\n",
       "      <td>4.200000</td>\n",
       "    </tr>\n",
       "    <tr>\n",
       "      <th>...</th>\n",
       "      <td>...</td>\n",
       "      <td>...</td>\n",
       "    </tr>\n",
       "    <tr>\n",
       "      <th>American Psychological Association</th>\n",
       "      <td>10</td>\n",
       "      <td>4.500000</td>\n",
       "    </tr>\n",
       "    <tr>\n",
       "      <th>Suzanne Collins</th>\n",
       "      <td>11</td>\n",
       "      <td>4.663636</td>\n",
       "    </tr>\n",
       "    <tr>\n",
       "      <th>Gary Chapman</th>\n",
       "      <td>11</td>\n",
       "      <td>4.736364</td>\n",
       "    </tr>\n",
       "    <tr>\n",
       "      <th>Rick Riordan</th>\n",
       "      <td>11</td>\n",
       "      <td>4.772727</td>\n",
       "    </tr>\n",
       "    <tr>\n",
       "      <th>Jeff Kinney</th>\n",
       "      <td>12</td>\n",
       "      <td>4.800000</td>\n",
       "    </tr>\n",
       "  </tbody>\n",
       "</table>\n",
       "<p>248 rows × 2 columns</p>\n",
       "</div>"
      ],
      "text/plain": [
       "                                    books_count  mean_rating\n",
       "author                                                      \n",
       "Muriel Barbery                                1     4.000000\n",
       "Chris Cleave                                  1     4.100000\n",
       "Ian K. Smith M.D.                             1     4.100000\n",
       "Pierre Dukan                                  1     4.100000\n",
       "Elizabeth Strout                              1     4.200000\n",
       "...                                         ...          ...\n",
       "American Psychological Association           10     4.500000\n",
       "Suzanne Collins                              11     4.663636\n",
       "Gary Chapman                                 11     4.736364\n",
       "Rick Riordan                                 11     4.772727\n",
       "Jeff Kinney                                  12     4.800000\n",
       "\n",
       "[248 rows x 2 columns]"
      ]
     },
     "execution_count": 74,
     "metadata": {},
     "output_type": "execute_result"
    }
   ],
   "source": [
    "result_data_sorted = result_data.sort_values(by=['books_count', 'mean_rating'], ascending=[True, True])\n",
    "result_data_sorted"
   ]
  },
  {
   "cell_type": "markdown",
   "id": "5a69ed1a-07fb-4df8-9315-7ec3d8c13632",
   "metadata": {},
   "source": [
    "**Відповідь: Який автор перший у списку? <font color=\"red\">Muriel Barbery</font>**"
   ]
  },
  {
   "cell_type": "code",
   "execution_count": null,
   "id": "6d728f19-569b-493c-ba6d-82b5df1753c2",
   "metadata": {},
   "outputs": [],
   "source": []
  }
 ],
 "metadata": {
  "kernelspec": {
   "display_name": "Python 3 (ipykernel)",
   "language": "python",
   "name": "python3"
  },
  "language_info": {
   "codemirror_mode": {
    "name": "ipython",
    "version": 3
   },
   "file_extension": ".py",
   "mimetype": "text/x-python",
   "name": "python",
   "nbconvert_exporter": "python",
   "pygments_lexer": "ipython3",
   "version": "3.11.6"
  }
 },
 "nbformat": 4,
 "nbformat_minor": 5
}
